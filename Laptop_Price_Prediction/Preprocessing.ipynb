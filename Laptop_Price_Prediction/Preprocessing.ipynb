{
 "cells": [
  {
   "cell_type": "code",
   "execution_count": 1,
   "id": "621a04ae-ff01-4d60-a44d-99da33446b1d",
   "metadata": {},
   "outputs": [],
   "source": [
    "import pandas as pd\n",
    "from sklearn.model_selection import train_test_split\n",
    "import matplotlib.pyplot as plt\n",
    "import numpy as np"
   ]
  },
  {
   "cell_type": "code",
   "execution_count": 2,
   "id": "40a765b1-4996-4e66-afe9-4612b013005b",
   "metadata": {},
   "outputs": [],
   "source": [
    "df=pd.read_csv(r\"D:\\Datasets\\laptop_data.csv\")"
   ]
  },
  {
   "cell_type": "code",
   "execution_count": 3,
   "id": "f6798398-206b-41ca-9433-bee80b125b76",
   "metadata": {},
   "outputs": [
    {
     "data": {
      "text/html": [
       "<div>\n",
       "<style scoped>\n",
       "    .dataframe tbody tr th:only-of-type {\n",
       "        vertical-align: middle;\n",
       "    }\n",
       "\n",
       "    .dataframe tbody tr th {\n",
       "        vertical-align: top;\n",
       "    }\n",
       "\n",
       "    .dataframe thead th {\n",
       "        text-align: right;\n",
       "    }\n",
       "</style>\n",
       "<table border=\"1\" class=\"dataframe\">\n",
       "  <thead>\n",
       "    <tr style=\"text-align: right;\">\n",
       "      <th></th>\n",
       "      <th>Unnamed: 0</th>\n",
       "      <th>Company</th>\n",
       "      <th>TypeName</th>\n",
       "      <th>Inches</th>\n",
       "      <th>ScreenResolution</th>\n",
       "      <th>Cpu</th>\n",
       "      <th>Ram</th>\n",
       "      <th>Memory</th>\n",
       "      <th>Gpu</th>\n",
       "      <th>OpSys</th>\n",
       "      <th>Weight</th>\n",
       "      <th>Price</th>\n",
       "    </tr>\n",
       "  </thead>\n",
       "  <tbody>\n",
       "    <tr>\n",
       "      <th>0</th>\n",
       "      <td>0</td>\n",
       "      <td>Apple</td>\n",
       "      <td>Ultrabook</td>\n",
       "      <td>13.3</td>\n",
       "      <td>IPS Panel Retina Display 2560x1600</td>\n",
       "      <td>Intel Core i5 2.3GHz</td>\n",
       "      <td>8GB</td>\n",
       "      <td>128GB SSD</td>\n",
       "      <td>Intel Iris Plus Graphics 640</td>\n",
       "      <td>macOS</td>\n",
       "      <td>1.37kg</td>\n",
       "      <td>71378.6832</td>\n",
       "    </tr>\n",
       "    <tr>\n",
       "      <th>1</th>\n",
       "      <td>1</td>\n",
       "      <td>Apple</td>\n",
       "      <td>Ultrabook</td>\n",
       "      <td>13.3</td>\n",
       "      <td>1440x900</td>\n",
       "      <td>Intel Core i5 1.8GHz</td>\n",
       "      <td>8GB</td>\n",
       "      <td>128GB Flash Storage</td>\n",
       "      <td>Intel HD Graphics 6000</td>\n",
       "      <td>macOS</td>\n",
       "      <td>1.34kg</td>\n",
       "      <td>47895.5232</td>\n",
       "    </tr>\n",
       "  </tbody>\n",
       "</table>\n",
       "</div>"
      ],
      "text/plain": [
       "   Unnamed: 0 Company   TypeName  Inches                    ScreenResolution  \\\n",
       "0           0   Apple  Ultrabook    13.3  IPS Panel Retina Display 2560x1600   \n",
       "1           1   Apple  Ultrabook    13.3                            1440x900   \n",
       "\n",
       "                    Cpu  Ram               Memory  \\\n",
       "0  Intel Core i5 2.3GHz  8GB            128GB SSD   \n",
       "1  Intel Core i5 1.8GHz  8GB  128GB Flash Storage   \n",
       "\n",
       "                            Gpu  OpSys  Weight       Price  \n",
       "0  Intel Iris Plus Graphics 640  macOS  1.37kg  71378.6832  \n",
       "1        Intel HD Graphics 6000  macOS  1.34kg  47895.5232  "
      ]
     },
     "execution_count": 3,
     "metadata": {},
     "output_type": "execute_result"
    }
   ],
   "source": [
    "df.head(2)"
   ]
  },
  {
   "cell_type": "code",
   "execution_count": 4,
   "id": "23614987-554f-4508-b901-79243a0f82b6",
   "metadata": {},
   "outputs": [
    {
     "name": "stdout",
     "output_type": "stream",
     "text": [
      "<class 'pandas.core.frame.DataFrame'>\n",
      "RangeIndex: 1303 entries, 0 to 1302\n",
      "Data columns (total 12 columns):\n",
      " #   Column            Non-Null Count  Dtype  \n",
      "---  ------            --------------  -----  \n",
      " 0   Unnamed: 0        1303 non-null   int64  \n",
      " 1   Company           1303 non-null   object \n",
      " 2   TypeName          1303 non-null   object \n",
      " 3   Inches            1303 non-null   float64\n",
      " 4   ScreenResolution  1303 non-null   object \n",
      " 5   Cpu               1303 non-null   object \n",
      " 6   Ram               1303 non-null   object \n",
      " 7   Memory            1303 non-null   object \n",
      " 8   Gpu               1303 non-null   object \n",
      " 9   OpSys             1303 non-null   object \n",
      " 10  Weight            1303 non-null   object \n",
      " 11  Price             1303 non-null   float64\n",
      "dtypes: float64(2), int64(1), object(9)\n",
      "memory usage: 122.3+ KB\n"
     ]
    }
   ],
   "source": [
    "df.info()"
   ]
  },
  {
   "cell_type": "code",
   "execution_count": 5,
   "id": "ede94792-e779-4de5-90b1-31b4c43a3269",
   "metadata": {},
   "outputs": [],
   "source": [
    "lap=df.copy()"
   ]
  },
  {
   "cell_type": "code",
   "execution_count": 6,
   "id": "7ad427ca-dff1-421f-ba93-d8a0c44c9064",
   "metadata": {},
   "outputs": [],
   "source": [
    "lap[\"ScreenResolution\"]=lap[\"ScreenResolution\"].str.split(\" \")"
   ]
  },
  {
   "cell_type": "code",
   "execution_count": 7,
   "id": "22a70847-10f4-4c0c-85b8-329c9cb74851",
   "metadata": {},
   "outputs": [],
   "source": [
    "def func(x):\n",
    "    if \"Touchscreen\" in x:\n",
    "        return \"Touchscreeen\"\n",
    "    else:\n",
    "        return \"Not\"\n",
    "    \n",
    "lap[\"Screen\"]=lap[\"ScreenResolution\"].apply(func)"
   ]
  },
  {
   "cell_type": "code",
   "execution_count": 8,
   "id": "3733cd41-2769-4ee4-aa62-5f1ff2595649",
   "metadata": {},
   "outputs": [],
   "source": [
    "lap[\"Cpu\"]=lap[\"Cpu\"].str.split(\" \")"
   ]
  },
  {
   "cell_type": "code",
   "execution_count": 9,
   "id": "ebebf5d3-2c5a-4cdf-998d-732aa6d9aa6d",
   "metadata": {},
   "outputs": [],
   "source": [
    "def func(x):\n",
    "    if \"Intel\" in x:\n",
    "        return \"Intel\"\n",
    "    elif \"AMD\" in x:\n",
    "        return \"AMD\"\n",
    "    elif \"Samsung\" in x:\n",
    "        return \"AMD\"\n",
    "    \n",
    "lap[\"Cpu\"]=lap[\"Cpu\"].apply(func)"
   ]
  },
  {
   "cell_type": "code",
   "execution_count": 10,
   "id": "b7866cff-1e4a-4f76-9682-53db8b1643cf",
   "metadata": {},
   "outputs": [],
   "source": [
    "lap[\"Ram\"]=lap[\"Ram\"].str.replace(\"GB\",\"\").astype(int)"
   ]
  },
  {
   "cell_type": "code",
   "execution_count": 11,
   "id": "5403de59-e764-487d-8d51-6591cee1a7df",
   "metadata": {},
   "outputs": [],
   "source": [
    "lap[\"Memory\"]=lap[\"Memory\"].str.replace(\"GB\",\" \")"
   ]
  },
  {
   "cell_type": "code",
   "execution_count": 12,
   "id": "21fd756b-8a76-4322-9495-a1b47d8fe24d",
   "metadata": {},
   "outputs": [],
   "source": [
    "def func(x):\n",
    "    if \"SSD\" in x:\n",
    "        return \"SSD\"\n",
    "    elif \"Flash Storage\" in x:\n",
    "        return \"Flash Storage\"\n",
    "    elif \"HDD\" in x:\n",
    "        return \"HDD\"\n",
    "    elif \"TB\" in x:\n",
    "        return \"TB\"\n",
    "    elif \"Hybird\" in x:\n",
    "        return \"Hybrid\"\n",
    "    \n",
    "lap[\"Memory_Type\"]=lap[\"Memory\"].apply(func)"
   ]
  },
  {
   "cell_type": "code",
   "execution_count": 13,
   "id": "b873f057-3f4b-442e-ba2c-0401f93cb1bb",
   "metadata": {},
   "outputs": [],
   "source": [
    "lap[\"Memory\"]=lap[\"Memory\"].str.replace(\"SSD\",\" \")\n",
    "lap[\"Memory\"]=lap[\"Memory\"].str.replace(\"Flash Storage\",\" \")\n",
    "lap[\"Memory\"]=lap[\"Memory\"].str.replace(\"HDD\",\" \")\n",
    "lap[\"Memory\"]=lap[\"Memory\"].str.replace(\"TB\",\" \")\n",
    "lap[\"Memory\"]=lap[\"Memory\"].str.replace(\"Hybrid\",\" \")"
   ]
  },
  {
   "cell_type": "code",
   "execution_count": 14,
   "id": "919b6f8d-5daa-43c8-94fa-51680d45a3a9",
   "metadata": {},
   "outputs": [],
   "source": [
    "lap[\"Gpu\"]=lap[\"Gpu\"].str.split(\" \")"
   ]
  },
  {
   "cell_type": "code",
   "execution_count": 15,
   "id": "5a7e1352-fd8d-4b6d-960c-2419ddc135b0",
   "metadata": {},
   "outputs": [],
   "source": [
    "def func(x):\n",
    "    if \"Intel\" in x:\n",
    "        return \"Intel\"\n",
    "    elif \"AMD\" in x:\n",
    "        return \"AMD\"\n",
    "    elif \"Nvidia\" in x:\n",
    "        return \"Nvidia\"\n",
    "    else:\n",
    "        return \"Intel\"\n",
    "    \n",
    "lap[\"Gpu\"]=lap[\"Gpu\"].apply(func)"
   ]
  },
  {
   "cell_type": "code",
   "execution_count": 16,
   "id": "93a41429-558f-42b3-9081-5b16504741dd",
   "metadata": {},
   "outputs": [],
   "source": [
    "lap[\"Weight\"]=lap[\"Weight\"].str.replace(\"kg\",\"\").astype(float)\n",
    "lap[\"Memory\"]=lap[\"Memory\"].str.split(\"+\").str[0].str.strip()\n",
    "lap[\"Memory\"]=lap[\"Memory\"].astype(float)"
   ]
  },
  {
   "cell_type": "code",
   "execution_count": 17,
   "id": "8875423b-36b1-4f19-bb02-1e59e34da692",
   "metadata": {},
   "outputs": [],
   "source": [
    "lap[\"Memory\"]=lap[\"Memory\"].astype(int)"
   ]
  },
  {
   "cell_type": "code",
   "execution_count": 18,
   "id": "5cd0fd72-3972-4ad1-bb29-905dfe81e9fe",
   "metadata": {},
   "outputs": [],
   "source": [
    "def func(x):\n",
    "    if \"Windows 10\" in x or \"Windows 7\" in x or \"Windows 10 S\" in x:\n",
    "        return \"Windows\"\n",
    "    elif \"macOS\" in x or \"Mac OS X\" in x:\n",
    "        return \"Macos\"\n",
    "    else:\n",
    "        return \"Other\"\n",
    "\n",
    "lap[\"OpSys\"] = lap[\"OpSys\"].apply(func)\n"
   ]
  },
  {
   "cell_type": "code",
   "execution_count": 19,
   "id": "e2c6bb23-813b-4925-9d56-31f8c9c0577f",
   "metadata": {},
   "outputs": [],
   "source": [
    "lap=lap.drop(columns=[\"ScreenResolution\"])"
   ]
  },
  {
   "cell_type": "code",
   "execution_count": 20,
   "id": "242c8cfa-af6c-4b13-8242-c1f424d31dbe",
   "metadata": {},
   "outputs": [],
   "source": [
    "\n",
    "X=lap[[\"Company\",\"TypeName\",\"Inches\",\"Cpu\",\"Ram\",\"Gpu\",\"OpSys\",\"Weight\",\"Screen\",\"Memory_Type\"]]\n",
    "y=lap[\"Price\"]\n",
    "y_log=np.log1p(y)"
   ]
  },
  {
   "cell_type": "code",
   "execution_count": 21,
   "id": "9bcb1f33-1137-4df2-9849-a36c01518a74",
   "metadata": {},
   "outputs": [
    {
     "data": {
      "text/plain": [
       "(array([ 19.,  76., 151., 191., 261., 270., 216.,  98.,  17.,   4.]),\n",
       " array([ 9.13472419,  9.49039619,  9.84606819, 10.20174019, 10.55741219,\n",
       "        10.9130842 , 11.2687562 , 11.6244282 , 11.9801002 , 12.3357722 ,\n",
       "        12.69144421]),\n",
       " <BarContainer object of 10 artists>)"
      ]
     },
     "execution_count": 21,
     "metadata": {},
     "output_type": "execute_result"
    },
    {
     "data": {
      "image/png": "[encoded data removed]",
      "text/plain": [
       "<Figure size 1200x500 with 2 Axes>"
      ]
     },
     "metadata": {},
     "output_type": "display_data"
    }
   ],
   "source": [
    "plt.figure(figsize=(12,5))\n",
    "plt.subplot(1,2,1)\n",
    "plt.hist(y)\n",
    "plt.subplot(1,2,2)\n",
    "plt.hist(y_log)"
   ]
  },
  {
   "cell_type": "code",
   "execution_count": 22,
   "id": "b2d768f9-e986-46c2-bb4e-fa3eb6bf4900",
   "metadata": {},
   "outputs": [],
   "source": [
    "x_train,x_test,y_train,y_test=train_test_split(X,y_log,test_size=0.2,random_state=42)"
   ]
  },
  {
   "cell_type": "code",
   "execution_count": null,
   "id": "3ad17929-db5b-4f1d-92f6-59589a0baa35",
   "metadata": {},
   "outputs": [],
   "source": []
  },
  {
   "cell_type": "code",
   "execution_count": 23,
   "id": "a366336b-04f6-4a0e-b0ac-a3023320f1b0",
   "metadata": {},
   "outputs": [],
   "source": [
    "from sklearn.compose import ColumnTransformer\n",
    "from sklearn.preprocessing import OneHotEncoder,StandardScaler\n",
    "from sklearn.linear_model import LinearRegression\n",
    "from sklearn.pipeline import make_pipeline,Pipeline\n",
    "from sklearn.metrics import r2_score\n",
    "import pickle"
   ]
  },
  {
   "cell_type": "code",
   "execution_count": 24,
   "id": "487d1032-7ade-4116-952b-224dc0e02ca6",
   "metadata": {},
   "outputs": [],
   "source": [
    "from sklearn.linear_model import LinearRegression,Ridge,Lasso\n",
    "from sklearn.tree import DecisionTreeRegressor\n",
    "from sklearn.ensemble import RandomForestRegressor,GradientBoostingRegressor\n",
    "from sklearn.neighbors import KNeighborsRegressor\n",
    "from sklearn.svm import SVR\n",
    "from xgboost import XGBRegressor"
   ]
  },
  {
   "cell_type": "code",
   "execution_count": 25,
   "id": "b548e612-aef8-481f-9231-ec83cf331e0d",
   "metadata": {},
   "outputs": [],
   "source": [
    "ohe = OneHotEncoder(handle_unknown=\"ignore\", sparse_output=False)\n",
    "\n",
    "cl1 = ColumnTransformer(transformers=[\n",
    "    (\"OHE_categories\", ohe,\n",
    "     [\"Company\", \"TypeName\", \"Cpu\", \"Gpu\", \"OpSys\", \"Screen\", \"Memory_Type\"])\n",
    "], remainder=\"passthrough\", force_int_remainder_cols=False)\n"
   ]
  },
  {
   "cell_type": "code",
   "execution_count": null,
   "id": "c77e45bc-cf84-47c4-8160-a9046ac972c4",
   "metadata": {},
   "outputs": [],
   "source": []
  },
  {
   "cell_type": "code",
   "execution_count": 26,
   "id": "cc480f53-7120-4b4a-9939-2b18dcf148b9",
   "metadata": {},
   "outputs": [],
   "source": [
    "lr=LinearRegression()"
   ]
  },
  {
   "cell_type": "code",
   "execution_count": 27,
   "id": "62de72eb-2168-4b43-86be-403562b98780",
   "metadata": {},
   "outputs": [],
   "source": [
    "pipe=make_pipeline(cl1,lr)"
   ]
  },
  {
   "cell_type": "code",
   "execution_count": 28,
   "id": "e3bcd3cf-39a2-42d5-9824-8a8d1b2e282b",
   "metadata": {},
   "outputs": [
    {
     "data": {
      "text/html": [
       "<style>#sk-container-id-1 {\n",
       "  /* Definition of color scheme common for light and dark mode */\n",
       "  --sklearn-color-text: black;\n",
       "  --sklearn-color-line: gray;\n",
       "  /* Definition of color scheme for unfitted estimators */\n",
       "  --sklearn-color-unfitted-level-0: #fff5e6;\n",
       "  --sklearn-color-unfitted-level-1: #f6e4d2;\n",
       "  --sklearn-color-unfitted-level-2: #ffe0b3;\n",
       "  --sklearn-color-unfitted-level-3: chocolate;\n",
       "  /* Definition of color scheme for fitted estimators */\n",
       "  --sklearn-color-fitted-level-0: #f0f8ff;\n",
       "  --sklearn-color-fitted-level-1: #d4ebff;\n",
       "  --sklearn-color-fitted-level-2: #b3dbfd;\n",
       "  --sklearn-color-fitted-level-3: cornflowerblue;\n",
       "\n",
       "  /* Specific color for light theme */\n",
       "  --sklearn-color-text-on-default-background: var(--sg-text-color, var(--theme-code-foreground, var(--jp-content-font-color1, black)));\n",
       "  --sklearn-color-background: var(--sg-background-color, var(--theme-background, var(--jp-layout-color0, white)));\n",
       "  --sklearn-color-border-box: var(--sg-text-color, var(--theme-code-foreground, var(--jp-content-font-color1, black)));\n",
       "  --sklearn-color-icon: #696969;\n",
       "\n",
       "  @media (prefers-color-scheme: dark) {\n",
       "    /* Redefinition of color scheme for dark theme */\n",
       "    --sklearn-color-text-on-default-background: var(--sg-text-color, var(--theme-code-foreground, var(--jp-content-font-color1, white)));\n",
       "    --sklearn-color-background: var(--sg-background-color, var(--theme-background, var(--jp-layout-color0, #111)));\n",
       "    --sklearn-color-border-box: var(--sg-text-color, var(--theme-code-foreground, var(--jp-content-font-color1, white)));\n",
       "    --sklearn-color-icon: #878787;\n",
       "  }\n",
       "}\n",
       "\n",
       "#sk-container-id-1 {\n",
       "  color: var(--sklearn-color-text);\n",
       "}\n",
       "\n",
       "#sk-container-id-1 pre {\n",
       "  padding: 0;\n",
       "}\n",
       "\n",
       "#sk-container-id-1 input.sk-hidden--visually {\n",
       "  border: 0;\n",
       "  clip: rect(1px 1px 1px 1px);\n",
       "  clip: rect(1px, 1px, 1px, 1px);\n",
       "  height: 1px;\n",
       "  margin: -1px;\n",
       "  overflow: hidden;\n",
       "  padding: 0;\n",
       "  position: absolute;\n",
       "  width: 1px;\n",
       "}\n",
       "\n",
       "#sk-container-id-1 div.sk-dashed-wrapped {\n",
       "  border: 1px dashed var(--sklearn-color-line);\n",
       "  margin: 0 0.4em 0.5em 0.4em;\n",
       "  box-sizing: border-box;\n",
       "  padding-bottom: 0.4em;\n",
       "  background-color: var(--sklearn-color-background);\n",
       "}\n",
       "\n",
       "#sk-container-id-1 div.sk-container {\n",
       "  /* jupyter's `normalize.less` sets `[hidden] { display: none; }`\n",
       "     but bootstrap.min.css set `[hidden] { display: none !important; }`\n",
       "     so we also need the `!important` here to be able to override the\n",
       "     default hidden behavior on the sphinx rendered scikit-learn.org.\n",
       "     See: https://github.com/scikit-learn/scikit-learn/issues/21755 */\n",
       "  display: inline-block !important;\n",
       "  position: relative;\n",
       "}\n",
       "\n",
       "#sk-container-id-1 div.sk-text-repr-fallback {\n",
       "  display: none;\n",
       "}\n",
       "\n",
       "div.sk-parallel-item,\n",
       "div.sk-serial,\n",
       "div.sk-item {\n",
       "  /* draw centered vertical line to link estimators */\n",
       "  background-image: linear-gradient(var(--sklearn-color-text-on-default-background), var(--sklearn-color-text-on-default-background));\n",
       "  background-size: 2px 100%;\n",
       "  background-repeat: no-repeat;\n",
       "  background-position: center center;\n",
       "}\n",
       "\n",
       "/* Parallel-specific style estimator block */\n",
       "\n",
       "#sk-container-id-1 div.sk-parallel-item::after {\n",
       "  content: \"\";\n",
       "  width: 100%;\n",
       "  border-bottom: 2px solid var(--sklearn-color-text-on-default-background);\n",
       "  flex-grow: 1;\n",
       "}\n",
       "\n",
       "#sk-container-id-1 div.sk-parallel {\n",
       "  display: flex;\n",
       "  align-items: stretch;\n",
       "  justify-content: center;\n",
       "  background-color: var(--sklearn-color-background);\n",
       "  position: relative;\n",
       "}\n",
       "\n",
       "#sk-container-id-1 div.sk-parallel-item {\n",
       "  display: flex;\n",
       "  flex-direction: column;\n",
       "}\n",
       "\n",
       "#sk-container-id-1 div.sk-parallel-item:first-child::after {\n",
       "  align-self: flex-end;\n",
       "  width: 50%;\n",
       "}\n",
       "\n",
       "#sk-container-id-1 div.sk-parallel-item:last-child::after {\n",
       "  align-self: flex-start;\n",
       "  width: 50%;\n",
       "}\n",
       "\n",
       "#sk-container-id-1 div.sk-parallel-item:only-child::after {\n",
       "  width: 0;\n",
       "}\n",
       "\n",
       "/* Serial-specific style estimator block */\n",
       "\n",
       "#sk-container-id-1 div.sk-serial {\n",
       "  display: flex;\n",
       "  flex-direction: column;\n",
       "  align-items: center;\n",
       "  background-color: var(--sklearn-color-background);\n",
       "  padding-right: 1em;\n",
       "  padding-left: 1em;\n",
       "}\n",
       "\n",
       "\n",
       "/* Toggleable style: style used for estimator/Pipeline/ColumnTransformer box that is\n",
       "clickable and can be expanded/collapsed.\n",
       "- Pipeline and ColumnTransformer use this feature and define the default style\n",
       "- Estimators will overwrite some part of the style using the `sk-estimator` class\n",
       "*/\n",
       "\n",
       "/* Pipeline and ColumnTransformer style (default) */\n",
       "\n",
       "#sk-container-id-1 div.sk-toggleable {\n",
       "  /* Default theme specific background. It is overwritten whether we have a\n",
       "  specific estimator or a Pipeline/ColumnTransformer */\n",
       "  background-color: var(--sklearn-color-background);\n",
       "}\n",
       "\n",
       "/* Toggleable label */\n",
       "#sk-container-id-1 label.sk-toggleable__label {\n",
       "  cursor: pointer;\n",
       "  display: block;\n",
       "  width: 100%;\n",
       "  margin-bottom: 0;\n",
       "  padding: 0.5em;\n",
       "  box-sizing: border-box;\n",
       "  text-align: center;\n",
       "}\n",
       "\n",
       "#sk-container-id-1 label.sk-toggleable__label-arrow:before {\n",
       "  /* Arrow on the left of the label */\n",
       "  content: \"▸\";\n",
       "  float: left;\n",
       "  margin-right: 0.25em;\n",
       "  color: var(--sklearn-color-icon);\n",
       "}\n",
       "\n",
       "#sk-container-id-1 label.sk-toggleable__label-arrow:hover:before {\n",
       "  color: var(--sklearn-color-text);\n",
       "}\n",
       "\n",
       "/* Toggleable content - dropdown */\n",
       "\n",
       "#sk-container-id-1 div.sk-toggleable__content {\n",
       "  max-height: 0;\n",
       "  max-width: 0;\n",
       "  overflow: hidden;\n",
       "  text-align: left;\n",
       "  /* unfitted */\n",
       "  background-color: var(--sklearn-color-unfitted-level-0);\n",
       "}\n",
       "\n",
       "#sk-container-id-1 div.sk-toggleable__content.fitted {\n",
       "  /* fitted */\n",
       "  background-color: var(--sklearn-color-fitted-level-0);\n",
       "}\n",
       "\n",
       "#sk-container-id-1 div.sk-toggleable__content pre {\n",
       "  margin: 0.2em;\n",
       "  border-radius: 0.25em;\n",
       "  color: var(--sklearn-color-text);\n",
       "  /* unfitted */\n",
       "  background-color: var(--sklearn-color-unfitted-level-0);\n",
       "}\n",
       "\n",
       "#sk-container-id-1 div.sk-toggleable__content.fitted pre {\n",
       "  /* unfitted */\n",
       "  background-color: var(--sklearn-color-fitted-level-0);\n",
       "}\n",
       "\n",
       "#sk-container-id-1 input.sk-toggleable__control:checked~div.sk-toggleable__content {\n",
       "  /* Expand drop-down */\n",
       "  max-height: 200px;\n",
       "  max-width: 100%;\n",
       "  overflow: auto;\n",
       "}\n",
       "\n",
       "#sk-container-id-1 input.sk-toggleable__control:checked~label.sk-toggleable__label-arrow:before {\n",
       "  content: \"▾\";\n",
       "}\n",
       "\n",
       "/* Pipeline/ColumnTransformer-specific style */\n",
       "\n",
       "#sk-container-id-1 div.sk-label input.sk-toggleable__control:checked~label.sk-toggleable__label {\n",
       "  color: var(--sklearn-color-text);\n",
       "  background-color: var(--sklearn-color-unfitted-level-2);\n",
       "}\n",
       "\n",
       "#sk-container-id-1 div.sk-label.fitted input.sk-toggleable__control:checked~label.sk-toggleable__label {\n",
       "  background-color: var(--sklearn-color-fitted-level-2);\n",
       "}\n",
       "\n",
       "/* Estimator-specific style */\n",
       "\n",
       "/* Colorize estimator box */\n",
       "#sk-container-id-1 div.sk-estimator input.sk-toggleable__control:checked~label.sk-toggleable__label {\n",
       "  /* unfitted */\n",
       "  background-color: var(--sklearn-color-unfitted-level-2);\n",
       "}\n",
       "\n",
       "#sk-container-id-1 div.sk-estimator.fitted input.sk-toggleable__control:checked~label.sk-toggleable__label {\n",
       "  /* fitted */\n",
       "  background-color: var(--sklearn-color-fitted-level-2);\n",
       "}\n",
       "\n",
       "#sk-container-id-1 div.sk-label label.sk-toggleable__label,\n",
       "#sk-container-id-1 div.sk-label label {\n",
       "  /* The background is the default theme color */\n",
       "  color: var(--sklearn-color-text-on-default-background);\n",
       "}\n",
       "\n",
       "/* On hover, darken the color of the background */\n",
       "#sk-container-id-1 div.sk-label:hover label.sk-toggleable__label {\n",
       "  color: var(--sklearn-color-text);\n",
       "  background-color: var(--sklearn-color-unfitted-level-2);\n",
       "}\n",
       "\n",
       "/* Label box, darken color on hover, fitted */\n",
       "#sk-container-id-1 div.sk-label.fitted:hover label.sk-toggleable__label.fitted {\n",
       "  color: var(--sklearn-color-text);\n",
       "  background-color: var(--sklearn-color-fitted-level-2);\n",
       "}\n",
       "\n",
       "/* Estimator label */\n",
       "\n",
       "#sk-container-id-1 div.sk-label label {\n",
       "  font-family: monospace;\n",
       "  font-weight: bold;\n",
       "  display: inline-block;\n",
       "  line-height: 1.2em;\n",
       "}\n",
       "\n",
       "#sk-container-id-1 div.sk-label-container {\n",
       "  text-align: center;\n",
       "}\n",
       "\n",
       "/* Estimator-specific */\n",
       "#sk-container-id-1 div.sk-estimator {\n",
       "  font-family: monospace;\n",
       "  border: 1px dotted var(--sklearn-color-border-box);\n",
       "  border-radius: 0.25em;\n",
       "  box-sizing: border-box;\n",
       "  margin-bottom: 0.5em;\n",
       "  /* unfitted */\n",
       "  background-color: var(--sklearn-color-unfitted-level-0);\n",
       "}\n",
       "\n",
       "#sk-container-id-1 div.sk-estimator.fitted {\n",
       "  /* fitted */\n",
       "  background-color: var(--sklearn-color-fitted-level-0);\n",
       "}\n",
       "\n",
       "/* on hover */\n",
       "#sk-container-id-1 div.sk-estimator:hover {\n",
       "  /* unfitted */\n",
       "  background-color: var(--sklearn-color-unfitted-level-2);\n",
       "}\n",
       "\n",
       "#sk-container-id-1 div.sk-estimator.fitted:hover {\n",
       "  /* fitted */\n",
       "  background-color: var(--sklearn-color-fitted-level-2);\n",
       "}\n",
       "\n",
       "/* Specification for estimator info (e.g. \"i\" and \"?\") */\n",
       "\n",
       "/* Common style for \"i\" and \"?\" */\n",
       "\n",
       ".sk-estimator-doc-link,\n",
       "a:link.sk-estimator-doc-link,\n",
       "a:visited.sk-estimator-doc-link {\n",
       "  float: right;\n",
       "  font-size: smaller;\n",
       "  line-height: 1em;\n",
       "  font-family: monospace;\n",
       "  background-color: var(--sklearn-color-background);\n",
       "  border-radius: 1em;\n",
       "  height: 1em;\n",
       "  width: 1em;\n",
       "  text-decoration: none !important;\n",
       "  margin-left: 1ex;\n",
       "  /* unfitted */\n",
       "  border: var(--sklearn-color-unfitted-level-1) 1pt solid;\n",
       "  color: var(--sklearn-color-unfitted-level-1);\n",
       "}\n",
       "\n",
       ".sk-estimator-doc-link.fitted,\n",
       "a:link.sk-estimator-doc-link.fitted,\n",
       "a:visited.sk-estimator-doc-link.fitted {\n",
       "  /* fitted */\n",
       "  border: var(--sklearn-color-fitted-level-1) 1pt solid;\n",
       "  color: var(--sklearn-color-fitted-level-1);\n",
       "}\n",
       "\n",
       "/* On hover */\n",
       "div.sk-estimator:hover .sk-estimator-doc-link:hover,\n",
       ".sk-estimator-doc-link:hover,\n",
       "div.sk-label-container:hover .sk-estimator-doc-link:hover,\n",
       ".sk-estimator-doc-link:hover {\n",
       "  /* unfitted */\n",
       "  background-color: var(--sklearn-color-unfitted-level-3);\n",
       "  color: var(--sklearn-color-background);\n",
       "  text-decoration: none;\n",
       "}\n",
       "\n",
       "div.sk-estimator.fitted:hover .sk-estimator-doc-link.fitted:hover,\n",
       ".sk-estimator-doc-link.fitted:hover,\n",
       "div.sk-label-container:hover .sk-estimator-doc-link.fitted:hover,\n",
       ".sk-estimator-doc-link.fitted:hover {\n",
       "  /* fitted */\n",
       "  background-color: var(--sklearn-color-fitted-level-3);\n",
       "  color: var(--sklearn-color-background);\n",
       "  text-decoration: none;\n",
       "}\n",
       "\n",
       "/* Span, style for the box shown on hovering the info icon */\n",
       ".sk-estimator-doc-link span {\n",
       "  display: none;\n",
       "  z-index: 9999;\n",
       "  position: relative;\n",
       "  font-weight: normal;\n",
       "  right: .2ex;\n",
       "  padding: .5ex;\n",
       "  margin: .5ex;\n",
       "  width: min-content;\n",
       "  min-width: 20ex;\n",
       "  max-width: 50ex;\n",
       "  color: var(--sklearn-color-text);\n",
       "  box-shadow: 2pt 2pt 4pt #999;\n",
       "  /* unfitted */\n",
       "  background: var(--sklearn-color-unfitted-level-0);\n",
       "  border: .5pt solid var(--sklearn-color-unfitted-level-3);\n",
       "}\n",
       "\n",
       ".sk-estimator-doc-link.fitted span {\n",
       "  /* fitted */\n",
       "  background: var(--sklearn-color-fitted-level-0);\n",
       "  border: var(--sklearn-color-fitted-level-3);\n",
       "}\n",
       "\n",
       ".sk-estimator-doc-link:hover span {\n",
       "  display: block;\n",
       "}\n",
       "\n",
       "/* \"?\"-specific style due to the `<a>` HTML tag */\n",
       "\n",
       "#sk-container-id-1 a.estimator_doc_link {\n",
       "  float: right;\n",
       "  font-size: 1rem;\n",
       "  line-height: 1em;\n",
       "  font-family: monospace;\n",
       "  background-color: var(--sklearn-color-background);\n",
       "  border-radius: 1rem;\n",
       "  height: 1rem;\n",
       "  width: 1rem;\n",
       "  text-decoration: none;\n",
       "  /* unfitted */\n",
       "  color: var(--sklearn-color-unfitted-level-1);\n",
       "  border: var(--sklearn-color-unfitted-level-1) 1pt solid;\n",
       "}\n",
       "\n",
       "#sk-container-id-1 a.estimator_doc_link.fitted {\n",
       "  /* fitted */\n",
       "  border: var(--sklearn-color-fitted-level-1) 1pt solid;\n",
       "  color: var(--sklearn-color-fitted-level-1);\n",
       "}\n",
       "\n",
       "/* On hover */\n",
       "#sk-container-id-1 a.estimator_doc_link:hover {\n",
       "  /* unfitted */\n",
       "  background-color: var(--sklearn-color-unfitted-level-3);\n",
       "  color: var(--sklearn-color-background);\n",
       "  text-decoration: none;\n",
       "}\n",
       "\n",
       "#sk-container-id-1 a.estimator_doc_link.fitted:hover {\n",
       "  /* fitted */\n",
       "  background-color: var(--sklearn-color-fitted-level-3);\n",
       "}\n",
       "</style><div id=\"sk-container-id-1\" class=\"sk-top-container\"><div class=\"sk-text-repr-fallback\"><pre>Pipeline(steps=[(&#x27;columntransformer&#x27;,\n",
       "                 ColumnTransformer(force_int_remainder_cols=False,\n",
       "                                   remainder=&#x27;passthrough&#x27;,\n",
       "                                   transformers=[(&#x27;OHE_categories&#x27;,\n",
       "                                                  OneHotEncoder(handle_unknown=&#x27;ignore&#x27;,\n",
       "                                                                sparse_output=False),\n",
       "                                                  [&#x27;Company&#x27;, &#x27;TypeName&#x27;, &#x27;Cpu&#x27;,\n",
       "                                                   &#x27;Gpu&#x27;, &#x27;OpSys&#x27;, &#x27;Screen&#x27;,\n",
       "                                                   &#x27;Memory_Type&#x27;])])),\n",
       "                (&#x27;linearregression&#x27;, LinearRegression())])</pre><b>In a Jupyter environment, please rerun this cell to show the HTML representation or trust the notebook. <br />On GitHub, the HTML representation is unable to render, please try loading this page with nbviewer.org.</b></div><div class=\"sk-container\" hidden><div class=\"sk-item sk-dashed-wrapped\"><div class=\"sk-label-container\"><div class=\"sk-label fitted sk-toggleable\"><input class=\"sk-toggleable__control sk-hidden--visually\" id=\"sk-estimator-id-1\" type=\"checkbox\" ><label for=\"sk-estimator-id-1\" class=\"sk-toggleable__label fitted sk-toggleable__label-arrow fitted\">&nbsp;&nbsp;Pipeline<a class=\"sk-estimator-doc-link fitted\" rel=\"noreferrer\" target=\"_blank\" href=\"https://scikit-learn.org/1.5/modules/generated/sklearn.pipeline.Pipeline.html\">?<span>Documentation for Pipeline</span></a><span class=\"sk-estimator-doc-link fitted\">i<span>Fitted</span></span></label><div class=\"sk-toggleable__content fitted\"><pre>Pipeline(steps=[(&#x27;columntransformer&#x27;,\n",
       "                 ColumnTransformer(force_int_remainder_cols=False,\n",
       "                                   remainder=&#x27;passthrough&#x27;,\n",
       "                                   transformers=[(&#x27;OHE_categories&#x27;,\n",
       "                                                  OneHotEncoder(handle_unknown=&#x27;ignore&#x27;,\n",
       "                                                                sparse_output=False),\n",
       "                                                  [&#x27;Company&#x27;, &#x27;TypeName&#x27;, &#x27;Cpu&#x27;,\n",
       "                                                   &#x27;Gpu&#x27;, &#x27;OpSys&#x27;, &#x27;Screen&#x27;,\n",
       "                                                   &#x27;Memory_Type&#x27;])])),\n",
       "                (&#x27;linearregression&#x27;, LinearRegression())])</pre></div> </div></div><div class=\"sk-serial\"><div class=\"sk-item sk-dashed-wrapped\"><div class=\"sk-label-container\"><div class=\"sk-label fitted sk-toggleable\"><input class=\"sk-toggleable__control sk-hidden--visually\" id=\"sk-estimator-id-2\" type=\"checkbox\" ><label for=\"sk-estimator-id-2\" class=\"sk-toggleable__label fitted sk-toggleable__label-arrow fitted\">&nbsp;columntransformer: ColumnTransformer<a class=\"sk-estimator-doc-link fitted\" rel=\"noreferrer\" target=\"_blank\" href=\"https://scikit-learn.org/1.5/modules/generated/sklearn.compose.ColumnTransformer.html\">?<span>Documentation for columntransformer: ColumnTransformer</span></a></label><div class=\"sk-toggleable__content fitted\"><pre>ColumnTransformer(force_int_remainder_cols=False, remainder=&#x27;passthrough&#x27;,\n",
       "                  transformers=[(&#x27;OHE_categories&#x27;,\n",
       "                                 OneHotEncoder(handle_unknown=&#x27;ignore&#x27;,\n",
       "                                               sparse_output=False),\n",
       "                                 [&#x27;Company&#x27;, &#x27;TypeName&#x27;, &#x27;Cpu&#x27;, &#x27;Gpu&#x27;, &#x27;OpSys&#x27;,\n",
       "                                  &#x27;Screen&#x27;, &#x27;Memory_Type&#x27;])])</pre></div> </div></div><div class=\"sk-parallel\"><div class=\"sk-parallel-item\"><div class=\"sk-item\"><div class=\"sk-label-container\"><div class=\"sk-label fitted sk-toggleable\"><input class=\"sk-toggleable__control sk-hidden--visually\" id=\"sk-estimator-id-3\" type=\"checkbox\" ><label for=\"sk-estimator-id-3\" class=\"sk-toggleable__label fitted sk-toggleable__label-arrow fitted\">OHE_categories</label><div class=\"sk-toggleable__content fitted\"><pre>[&#x27;Company&#x27;, &#x27;TypeName&#x27;, &#x27;Cpu&#x27;, &#x27;Gpu&#x27;, &#x27;OpSys&#x27;, &#x27;Screen&#x27;, &#x27;Memory_Type&#x27;]</pre></div> </div></div><div class=\"sk-serial\"><div class=\"sk-item\"><div class=\"sk-estimator fitted sk-toggleable\"><input class=\"sk-toggleable__control sk-hidden--visually\" id=\"sk-estimator-id-4\" type=\"checkbox\" ><label for=\"sk-estimator-id-4\" class=\"sk-toggleable__label fitted sk-toggleable__label-arrow fitted\">&nbsp;OneHotEncoder<a class=\"sk-estimator-doc-link fitted\" rel=\"noreferrer\" target=\"_blank\" href=\"https://scikit-learn.org/1.5/modules/generated/sklearn.preprocessing.OneHotEncoder.html\">?<span>Documentation for OneHotEncoder</span></a></label><div class=\"sk-toggleable__content fitted\"><pre>OneHotEncoder(handle_unknown=&#x27;ignore&#x27;, sparse_output=False)</pre></div> </div></div></div></div></div><div class=\"sk-parallel-item\"><div class=\"sk-item\"><div class=\"sk-label-container\"><div class=\"sk-label fitted sk-toggleable\"><input class=\"sk-toggleable__control sk-hidden--visually\" id=\"sk-estimator-id-5\" type=\"checkbox\" ><label for=\"sk-estimator-id-5\" class=\"sk-toggleable__label fitted sk-toggleable__label-arrow fitted\">remainder</label><div class=\"sk-toggleable__content fitted\"><pre>[&#x27;Inches&#x27;, &#x27;Ram&#x27;, &#x27;Weight&#x27;]</pre></div> </div></div><div class=\"sk-serial\"><div class=\"sk-item\"><div class=\"sk-estimator fitted sk-toggleable\"><input class=\"sk-toggleable__control sk-hidden--visually\" id=\"sk-estimator-id-6\" type=\"checkbox\" ><label for=\"sk-estimator-id-6\" class=\"sk-toggleable__label fitted sk-toggleable__label-arrow fitted\">passthrough</label><div class=\"sk-toggleable__content fitted\"><pre>passthrough</pre></div> </div></div></div></div></div></div></div><div class=\"sk-item\"><div class=\"sk-estimator fitted sk-toggleable\"><input class=\"sk-toggleable__control sk-hidden--visually\" id=\"sk-estimator-id-7\" type=\"checkbox\" ><label for=\"sk-estimator-id-7\" class=\"sk-toggleable__label fitted sk-toggleable__label-arrow fitted\">&nbsp;LinearRegression<a class=\"sk-estimator-doc-link fitted\" rel=\"noreferrer\" target=\"_blank\" href=\"https://scikit-learn.org/1.5/modules/generated/sklearn.linear_model.LinearRegression.html\">?<span>Documentation for LinearRegression</span></a></label><div class=\"sk-toggleable__content fitted\"><pre>LinearRegression()</pre></div> </div></div></div></div></div></div>"
      ],
      "text/plain": [
       "Pipeline(steps=[('columntransformer',\n",
       "                 ColumnTransformer(force_int_remainder_cols=False,\n",
       "                                   remainder='passthrough',\n",
       "                                   transformers=[('OHE_categories',\n",
       "                                                  OneHotEncoder(handle_unknown='ignore',\n",
       "                                                                sparse_output=False),\n",
       "                                                  ['Company', 'TypeName', 'Cpu',\n",
       "                                                   'Gpu', 'OpSys', 'Screen',\n",
       "                                                   'Memory_Type'])])),\n",
       "                ('linearregression', LinearRegression())])"
      ]
     },
     "execution_count": 28,
     "metadata": {},
     "output_type": "execute_result"
    }
   ],
   "source": [
    "pipe.fit(x_train,y_train)"
   ]
  },
  {
   "cell_type": "code",
   "execution_count": 29,
   "id": "031f027a-94a3-4e07-b346-56ef95bd3679",
   "metadata": {},
   "outputs": [],
   "source": [
    "y_predict=pipe.predict(x_test)"
   ]
  },
  {
   "cell_type": "code",
   "execution_count": 30,
   "id": "4688db45-22fd-4ccd-a473-a88bda98bf32",
   "metadata": {},
   "outputs": [],
   "source": [
    "r2=r2_score(y_test,y_predict)"
   ]
  },
  {
   "cell_type": "code",
   "execution_count": 31,
   "id": "1b244c04-fee8-453e-acbd-2eab1321ec48",
   "metadata": {},
   "outputs": [
    {
     "data": {
      "text/plain": [
       "0.7440429042651217"
      ]
     },
     "execution_count": 31,
     "metadata": {},
     "output_type": "execute_result"
    }
   ],
   "source": [
    "r2"
   ]
  },
  {
   "cell_type": "code",
   "execution_count": 32,
   "id": "0614c110-e8f8-4aa0-bba1-d6b215ac1663",
   "metadata": {},
   "outputs": [
    {
     "name": "stdout",
     "output_type": "stream",
     "text": [
      "0.7420844445264718\n"
     ]
    }
   ],
   "source": [
    "ridge=Ridge(alpha=1.0)\n",
    "pipe=make_pipeline(cl1,ridge)\n",
    "pipe.fit(x_train,y_train)\n",
    "y_predict=pipe.predict(x_test)\n",
    "r2_ridge=r2_score(y_test,y_predict)\n",
    "print(r2_ridge)"
   ]
  },
  {
   "cell_type": "code",
   "execution_count": 33,
   "id": "2d9983a8-f4fb-46f4-95c9-79464d52b32a",
   "metadata": {},
   "outputs": [
    {
     "name": "stdout",
     "output_type": "stream",
     "text": [
      "0.38199333872871777\n"
     ]
    }
   ],
   "source": [
    "lasso=Lasso(alpha=1.0,max_iter=10000)\n",
    "pipe=make_pipeline(cl1,lasso)\n",
    "pipe.fit(x_train,y_train)\n",
    "y_predict=pipe.predict(x_test)\n",
    "r2_lasso=r2_score(y_test,y_predict)\n",
    "print(r2_lasso)"
   ]
  },
  {
   "cell_type": "code",
   "execution_count": 34,
   "id": "6b987d70-306b-48bc-807f-a2ca80df2203",
   "metadata": {},
   "outputs": [
    {
     "name": "stdout",
     "output_type": "stream",
     "text": [
      "0.72257116095474\n"
     ]
    }
   ],
   "source": [
    "DT=DecisionTreeRegressor(max_depth=8)\n",
    "pipe=make_pipeline(cl1,DT)\n",
    "pipe.fit(x_train,y_train)\n",
    "y_predict=pipe.predict(x_test)\n",
    "r2_DT=r2_score(y_test,y_predict)\n",
    "print(r2_DT)"
   ]
  },
  {
   "cell_type": "code",
   "execution_count": 35,
   "id": "68e70b86-9715-44aa-84f6-904520551334",
   "metadata": {},
   "outputs": [
    {
     "name": "stdout",
     "output_type": "stream",
     "text": [
      "0.8126973424476256\n"
     ]
    }
   ],
   "source": [
    "RF=RandomForestRegressor(n_estimators=100,random_state=42,max_depth=15,\n",
    "                         max_samples=0.5,max_features=0.75)\n",
    "pipe=make_pipeline(cl1,RF)\n",
    "pipe.fit(x_train,y_train)\n",
    "y_predict=pipe.predict(x_test)\n",
    "r2_RF=r2_score(y_test,y_predict)\n",
    "print(r2_RF)"
   ]
  },
  {
   "cell_type": "code",
   "execution_count": 36,
   "id": "342fc7e8-2523-4810-8e5f-8076e32cb9b9",
   "metadata": {},
   "outputs": [
    {
     "name": "stdout",
     "output_type": "stream",
     "text": [
      "0.7976569905206884\n"
     ]
    }
   ],
   "source": [
    "GB=GradientBoostingRegressor(n_estimators=100,random_state=42,learning_rate=0.1)\n",
    "pipe=make_pipeline(cl1,GB)\n",
    "pipe.fit(x_train,y_train)\n",
    "y_predict=pipe.predict(x_test)\n",
    "r2_GB=r2_score(y_test,y_predict)\n",
    "print(r2_GB)"
   ]
  },
  {
   "cell_type": "code",
   "execution_count": 37,
   "id": "eb299256-8343-40ab-a9dd-cb64deaf6747",
   "metadata": {},
   "outputs": [
    {
     "name": "stdout",
     "output_type": "stream",
     "text": [
      "0.8091468047638661\n"
     ]
    }
   ],
   "source": [
    "XGB=XGBRegressor(n_estimators=300,random_state=42,learning_rate=0.1)\n",
    "pipe=make_pipeline(cl1,XGB)\n",
    "pipe.fit(x_train,y_train)\n",
    "y_predict=pipe.predict(x_test)\n",
    "r2_XGB=r2_score(y_test,y_predict)\n",
    "print(r2_XGB)"
   ]
  },
  {
   "cell_type": "code",
   "execution_count": 38,
   "id": "c87d5790-125c-4923-95e7-a3ae289a0039",
   "metadata": {},
   "outputs": [
    {
     "name": "stdout",
     "output_type": "stream",
     "text": [
      "0.8091468047638661\n"
     ]
    }
   ],
   "source": [
    "knn=KNeighborsRegressor(n_neighbors=5)\n",
    "pipe=make_pipeline(cl1,XGB)\n",
    "pipe.fit(x_train,y_train)\n",
    "y_predict=pipe.predict(x_test)\n",
    "r2_knn=r2_score(y_test,y_predict)\n",
    "print(r2_knn)"
   ]
  },
  {
   "cell_type": "code",
   "execution_count": 39,
   "id": "0cccab08-011c-44ee-8cda-44d95492f3af",
   "metadata": {},
   "outputs": [
    {
     "name": "stdout",
     "output_type": "stream",
     "text": [
      "0.7911000526641886\n"
     ]
    }
   ],
   "source": [
    "svr_pipe = Pipeline([\n",
    "    ('preprocessing', cl1),  # your existing ColumnTransformer\n",
    "    ('scaler', StandardScaler()),  # scale features for SVR\n",
    "    ('svr', SVR(kernel='rbf', C=100, epsilon=0.1))  # you can tune C, epsilon\n",
    "])\n",
    "\n",
    "svr_pipe.fit(x_train, y_train)\n",
    "svr_pred = svr_pipe.predict(x_test)\n",
    "print(r2_score(y_test, svr_pred))"
   ]
  },
  {
   "cell_type": "code",
   "execution_count": 40,
   "id": "8646bef6-9884-4ffe-a49a-4845303e946f",
   "metadata": {},
   "outputs": [],
   "source": [
    "lr_=[]\n",
    "ridge_=[]\n",
    "knn_=[]\n",
    "xgb=[]\n",
    "gb=[]\n",
    "rf=[]\n",
    "dt=[]\n",
    "for i in range(1,100):\n",
    "     x_train,x_test,y_train,y_test=train_test_split(X,y_log,test_size=0.2,random_state=i)\n",
    "\n",
    "     lr=LinearRegression()\n",
    "     pipe=make_pipeline(cl1,lr)\n",
    "     pipe.fit(x_train,y_train)\n",
    "     y_predict=pipe.predict(x_test)\n",
    "     lr_.append(r2_score(y_test,y_predict))\n",
    "     \n",
    "\n",
    "     ridge=Ridge(alpha=1.0)\n",
    "     pipe=make_pipeline(cl1,ridge)\n",
    "     pipe.fit(x_train,y_train)\n",
    "     y_predict=pipe.predict(x_test)\n",
    "     ridge_.append(r2_score(y_test,y_predict))\n",
    "\n",
    "     DT=DecisionTreeRegressor(max_depth=8)\n",
    "     pipe=make_pipeline(cl1,DT)\n",
    "     pipe.fit(x_train,y_train)\n",
    "     y_predict=pipe.predict(x_test)\n",
    "     dt.append(r2_score(y_test,y_predict))\n",
    "\n",
    "     RF=RandomForestRegressor(n_estimators=100,random_state=42,max_depth=15,\n",
    "                         max_samples=0.5,max_features=0.75)\n",
    "     pipe=make_pipeline(cl1,RF)\n",
    "     pipe.fit(x_train,y_train)\n",
    "     y_predict=pipe.predict(x_test)\n",
    "     rf.append(r2_score(y_test,y_predict))\n",
    "\n",
    "     GB=GradientBoostingRegressor(n_estimators=100,random_state=42,learning_rate=0.1)\n",
    "     pipe=make_pipeline(cl1,GB)\n",
    "     pipe.fit(x_train,y_train)\n",
    "     y_predict=pipe.predict(x_test)\n",
    "     gb.append(r2_score(y_test,y_predict))\n",
    "\n",
    "     XGB=XGBRegressor(n_estimators=300,random_state=42,learning_rate=0.1)\n",
    "     pipe=make_pipeline(cl1,XGB)\n",
    "     pipe.fit(x_train,y_train)\n",
    "     y_predict=pipe.predict(x_test)\n",
    "     xgb.append(r2_score(y_test,y_predict))\n",
    "\n",
    "     knn=KNeighborsRegressor(n_neighbors=5)\n",
    "     pipe=make_pipeline(cl1,knn)\n",
    "     pipe.fit(x_train,y_train)\n",
    "     y_predict=pipe.predict(x_test)\n",
    "     knn_.append(r2_score(y_test,y_predict))\n",
    "\n",
    "\n",
    "     \n",
    "\n",
    "\n",
    "     \n",
    "     \n",
    "\n",
    " "
   ]
  },
  {
   "cell_type": "code",
   "execution_count": 41,
   "id": "af07aa19-ca18-422e-8ed8-9ba2a8af10a2",
   "metadata": {},
   "outputs": [
    {
     "name": "stdout",
     "output_type": "stream",
     "text": [
      "Linear 0.7703440174004387\n",
      "Ridge 0.7706969507744756\n",
      "DT 0.8376583783892904\n",
      "gb 0.8643601380661412\n",
      "Xgb 0.8808890108296088\n",
      "knn 0.8512242516352182\n"
     ]
    }
   ],
   "source": [
    "print(\"Linear\",lr_[np.argmax(lr)])\n",
    "print(\"Ridge\",ridge_[np.argmax(ridge)])\n",
    "print(\"DT\",dt[np.argmax(dt)])\n",
    "print(\"gb\",gb[np.argmax(gb)])\n",
    "print(\"Xgb\",xgb[np.argmax(xgb)])\n",
    "print(\"knn\",knn_[np.argmax(knn_)])"
   ]
  },
  {
   "cell_type": "code",
   "execution_count": 42,
   "id": "2812b4f4-4277-45b6-a9de-7dd3288fbd9b",
   "metadata": {},
   "outputs": [
    {
     "name": "stdout",
     "output_type": "stream",
     "text": [
      "0.8441165211635471\n"
     ]
    }
   ],
   "source": [
    "\n",
    "x_train,x_test,y_train,y_test=train_test_split(X,y_log,test_size=0.2,random_state=np.argmax(xgb))\n",
    "XGB=XGBRegressor(n_estimators=300,random_state=42,learning_rate=0.1)\n",
    "pipe=make_pipeline(cl1,XGB)\n",
    "pipe.fit(x_train,y_train)\n",
    "y_predict=pipe.predict(x_test)\n",
    "print(r2_score(y_test,y_predict))"
   ]
  },
  {
   "cell_type": "code",
   "execution_count": 43,
   "id": "ebcc44f6-1f83-4aba-8fa1-4861a8ef3b09",
   "metadata": {},
   "outputs": [],
   "source": [
    "lap.to_csv(\"laptop.csv\")"
   ]
  },
  {
   "cell_type": "code",
   "execution_count": 44,
   "id": "51b6b154-4c9a-4f45-8a3e-7b276a1bfddf",
   "metadata": {},
   "outputs": [],
   "source": [
    "with open(\"model_lap\",\"wb\") as f:\n",
    "    pickle.dump(pipe,f)"
   ]
  },
  {
   "cell_type": "code",
   "execution_count": 45,
   "id": "1f1c3fef-fb71-4f61-8e5f-f6d0c405c235",
   "metadata": {},
   "outputs": [
    {
     "data": {
      "text/html": [
       "<div>\n",
       "<style scoped>\n",
       "    .dataframe tbody tr th:only-of-type {\n",
       "        vertical-align: middle;\n",
       "    }\n",
       "\n",
       "    .dataframe tbody tr th {\n",
       "        vertical-align: top;\n",
       "    }\n",
       "\n",
       "    .dataframe thead th {\n",
       "        text-align: right;\n",
       "    }\n",
       "</style>\n",
       "<table border=\"1\" class=\"dataframe\">\n",
       "  <thead>\n",
       "    <tr style=\"text-align: right;\">\n",
       "      <th></th>\n",
       "      <th>Unnamed: 0</th>\n",
       "      <th>Company</th>\n",
       "      <th>TypeName</th>\n",
       "      <th>Inches</th>\n",
       "      <th>Cpu</th>\n",
       "      <th>Ram</th>\n",
       "      <th>Memory</th>\n",
       "      <th>Gpu</th>\n",
       "      <th>OpSys</th>\n",
       "      <th>Weight</th>\n",
       "      <th>Price</th>\n",
       "      <th>Screen</th>\n",
       "      <th>Memory_Type</th>\n",
       "    </tr>\n",
       "  </thead>\n",
       "  <tbody>\n",
       "    <tr>\n",
       "      <th>0</th>\n",
       "      <td>0</td>\n",
       "      <td>Apple</td>\n",
       "      <td>Ultrabook</td>\n",
       "      <td>13.3</td>\n",
       "      <td>Intel</td>\n",
       "      <td>8</td>\n",
       "      <td>128</td>\n",
       "      <td>Intel</td>\n",
       "      <td>Macos</td>\n",
       "      <td>1.37</td>\n",
       "      <td>71378.6832</td>\n",
       "      <td>Not</td>\n",
       "      <td>SSD</td>\n",
       "    </tr>\n",
       "    <tr>\n",
       "      <th>1</th>\n",
       "      <td>1</td>\n",
       "      <td>Apple</td>\n",
       "      <td>Ultrabook</td>\n",
       "      <td>13.3</td>\n",
       "      <td>Intel</td>\n",
       "      <td>8</td>\n",
       "      <td>128</td>\n",
       "      <td>Intel</td>\n",
       "      <td>Macos</td>\n",
       "      <td>1.34</td>\n",
       "      <td>47895.5232</td>\n",
       "      <td>Not</td>\n",
       "      <td>Flash Storage</td>\n",
       "    </tr>\n",
       "    <tr>\n",
       "      <th>2</th>\n",
       "      <td>2</td>\n",
       "      <td>HP</td>\n",
       "      <td>Notebook</td>\n",
       "      <td>15.6</td>\n",
       "      <td>Intel</td>\n",
       "      <td>8</td>\n",
       "      <td>256</td>\n",
       "      <td>Intel</td>\n",
       "      <td>Other</td>\n",
       "      <td>1.86</td>\n",
       "      <td>30636.0000</td>\n",
       "      <td>Not</td>\n",
       "      <td>SSD</td>\n",
       "    </tr>\n",
       "    <tr>\n",
       "      <th>3</th>\n",
       "      <td>3</td>\n",
       "      <td>Apple</td>\n",
       "      <td>Ultrabook</td>\n",
       "      <td>15.4</td>\n",
       "      <td>Intel</td>\n",
       "      <td>16</td>\n",
       "      <td>512</td>\n",
       "      <td>AMD</td>\n",
       "      <td>Macos</td>\n",
       "      <td>1.83</td>\n",
       "      <td>135195.3360</td>\n",
       "      <td>Not</td>\n",
       "      <td>SSD</td>\n",
       "    </tr>\n",
       "    <tr>\n",
       "      <th>4</th>\n",
       "      <td>4</td>\n",
       "      <td>Apple</td>\n",
       "      <td>Ultrabook</td>\n",
       "      <td>13.3</td>\n",
       "      <td>Intel</td>\n",
       "      <td>8</td>\n",
       "      <td>256</td>\n",
       "      <td>Intel</td>\n",
       "      <td>Macos</td>\n",
       "      <td>1.37</td>\n",
       "      <td>96095.8080</td>\n",
       "      <td>Not</td>\n",
       "      <td>SSD</td>\n",
       "    </tr>\n",
       "  </tbody>\n",
       "</table>\n",
       "</div>"
      ],
      "text/plain": [
       "   Unnamed: 0 Company   TypeName  Inches    Cpu  Ram  Memory    Gpu  OpSys  \\\n",
       "0           0   Apple  Ultrabook    13.3  Intel    8     128  Intel  Macos   \n",
       "1           1   Apple  Ultrabook    13.3  Intel    8     128  Intel  Macos   \n",
       "2           2      HP   Notebook    15.6  Intel    8     256  Intel  Other   \n",
       "3           3   Apple  Ultrabook    15.4  Intel   16     512    AMD  Macos   \n",
       "4           4   Apple  Ultrabook    13.3  Intel    8     256  Intel  Macos   \n",
       "\n",
       "   Weight        Price Screen    Memory_Type  \n",
       "0    1.37   71378.6832    Not            SSD  \n",
       "1    1.34   47895.5232    Not  Flash Storage  \n",
       "2    1.86   30636.0000    Not            SSD  \n",
       "3    1.83  135195.3360    Not            SSD  \n",
       "4    1.37   96095.8080    Not            SSD  "
      ]
     },
     "execution_count": 45,
     "metadata": {},
     "output_type": "execute_result"
    }
   ],
   "source": [
    "lap.head()"
   ]
  },
  {
   "cell_type": "code",
   "execution_count": 46,
   "id": "d3bbeb42-4e6c-41df-9632-f70f2c61a32c",
   "metadata": {},
   "outputs": [
    {
     "data": {
      "text/plain": [
       "0       1.37\n",
       "1       1.34\n",
       "2       1.86\n",
       "3       1.83\n",
       "4       1.37\n",
       "        ... \n",
       "1298    1.80\n",
       "1299    1.30\n",
       "1300    1.50\n",
       "1301    2.19\n",
       "1302    2.20\n",
       "Name: Weight, Length: 1303, dtype: float64"
      ]
     },
     "execution_count": 46,
     "metadata": {},
     "output_type": "execute_result"
    }
   ],
   "source": [
    "s=lap[\"Weight\"]\n",
    "s"
   ]
  },
  {
   "cell_type": "code",
   "execution_count": 47,
   "id": "9ebca796-b5a2-49ac-b589-92d6b7420c75",
   "metadata": {},
   "outputs": [
    {
     "data": {
      "text/plain": [
       "4.7"
      ]
     },
     "execution_count": 47,
     "metadata": {},
     "output_type": "execute_result"
    }
   ],
   "source": [
    "s[np.argmax(s)]"
   ]
  },
  {
   "cell_type": "code",
   "execution_count": null,
   "id": "384eab5e-d340-43b4-bbd5-5077b7ff8a2f",
   "metadata": {},
   "outputs": [],
   "source": []
  }
 ],
 "metadata": {
  "kernelspec": {
   "display_name": "Python 3 (ipykernel)",
   "language": "python",
   "name": "python3"
  },
  "language_info": {
   "codemirror_mode": {
    "name": "ipython",
    "version": 3
   },
   "file_extension": ".py",
   "mimetype": "text/x-python",
   "name": "python",
   "nbconvert_exporter": "python",
   "pygments_lexer": "ipython3",
   "version": "3.12.7"
  }
 },
 "nbformat": 4,
 "nbformat_minor": 5
}
